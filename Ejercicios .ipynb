{
 "cells": [
  {
   "cell_type": "markdown",
   "id": "3fb66719",
   "metadata": {},
   "source": [
    "# Tarea 2"
   ]
  },
  {
   "cell_type": "code",
   "execution_count": null,
   "id": "a4d80d05",
   "metadata": {},
   "outputs": [],
   "source": [
    "def lexicografico(A,B):\n",
    "    n = len(A)\n",
    "    contador = 0\n",
    "    for i in range(0,n):\n",
    "        if A[i] <= B[i]:\n",
    "            contador += 1\n",
    "    return contador\n",
    "    \n",
    "    \n",
    "def estrictamente_lexicografico(A,B):\n",
    "    n = len(A)\n",
    "    if lexicografico(A,B) == n:\n",
    "        contador = 0\n",
    "        for i in range(0,n):\n",
    "            if A[i] < B[i]:\n",
    "                return 1\n",
    "            if A[i] == B[i]:\n",
    "                contador += 1\n",
    "                            \n",
    "        if contador == n:\n",
    "            return 2\n",
    "    else:\n",
    "        return 3"
   ]
  },
  {
   "cell_type": "code",
   "execution_count": null,
   "id": "66092fc9",
   "metadata": {},
   "outputs": [],
   "source": [
    "A = [1,0]\n",
    "B = [0,1]\n",
    "estrictamente_lexicografico(A,B)"
   ]
  },
  {
   "cell_type": "code",
   "execution_count": null,
   "id": "5fa5109b",
   "metadata": {},
   "outputs": [],
   "source": [
    "A = [1,2,3,100]\n",
    "B = [1,2,3,4]\n",
    "estrictamente_lexicografico(A,B)"
   ]
  },
  {
   "cell_type": "markdown",
   "id": "cf6d2627",
   "metadata": {},
   "source": [
    "# Tarea 3"
   ]
  },
  {
   "cell_type": "markdown",
   "id": "50cf8e0f",
   "metadata": {},
   "source": [
    "### Ejercicio 2"
   ]
  },
  {
   "cell_type": "code",
   "execution_count": 2,
   "id": "c3e25884",
   "metadata": {},
   "outputs": [
    {
     "name": "stdout",
     "output_type": "stream",
     "text": [
      "True\n",
      "True\n",
      "False\n",
      "False\n"
     ]
    }
   ],
   "source": [
    "def anagrama_version2(palabra1, palabra2):\n",
    "    n = len(palabra1)\n",
    "    m = len(palabra2)\n",
    "    if n != m:\n",
    "        print(\"Las palabras no tienen la misma longitud\")\n",
    "    else: \n",
    "        i = 0\n",
    "        j = 0\n",
    "        k = 0\n",
    "        while i < n and j < n:\n",
    "            if palabra1[i] != palabra2[j]:\n",
    "                i += 1 \n",
    "            else:\n",
    "                k += 1\n",
    "                j += 1\n",
    "                i = 0\n",
    "        if k == n:\n",
    "            return True\n",
    "        else:\n",
    "            return False\n",
    "        \n",
    "palabra1 = ['a', 'm', 'o', 'r']\n",
    "palabra2 = ['r', 'o', 'm', 'a']\n",
    "print(anagrama_version2(palabra1, palabra2))\n",
    "\n",
    "palabra1 = ['c', 'i', 'n', 'e', 'm', 'a']\n",
    "palabra2 = ['i', 'c', 'e', 'm', 'a', 'n']\n",
    "print(anagrama_version2(palabra1, palabra2))\n",
    "\n",
    "palabra1 = ['m', 'u', 'n', 'd', 'o']\n",
    "palabra2 = ['d', 'u', 'd', 'a', 'r']\n",
    "print(anagrama_version2(palabra1, palabra2))\n",
    "\n",
    "palabra1 = ['f', 'r', 'e', 's', 'a']\n",
    "palabra2 = ['l', 'e', 'n', 't', 'e']\n",
    "print(anagrama_version2(palabra1, palabra2))"
   ]
  },
  {
   "cell_type": "code",
   "execution_count": 8,
   "id": "9d7efdb6",
   "metadata": {},
   "outputs": [
    {
     "name": "stdout",
     "output_type": "stream",
     "text": [
      "True\n"
     ]
    }
   ],
   "source": [
    "def son_anagramas(A, B):\n",
    "    # Inicializar los contadores para las letras del abecedario\n",
    "    Conteo_A = {'a': 0, 'b': 0, 'c': 0, 'd': 0, 'e': 0, 'f': 0, 'g': 0, \n",
    "                'h': 0, 'i': 0, 'j': 0, 'k': 0, 'l': 0, 'm': 0, 'n': 0, \n",
    "                'ñ': 0, 'o': 0, 'p': 0, 'q': 0, 'r': 0, 's': 0, 't': 0, \n",
    "                'u': 0, 'v': 0, 'w': 0, 'x': 0, 'y': 0, 'z': 0}\n",
    "\n",
    "    Conteo_B = Conteo_A.copy()  # Crear una copia para el segundo arreglo\n",
    "\n",
    "    Abecedario = {1: 'a', 2: 'b', 3: 'c', 4: 'd', 5: 'e', 6: 'f', 7: 'g', \n",
    "                  8: 'h', 9: 'i', 10: 'j', 11: 'k', 12: 'l', 13: 'm', 14: 'n', \n",
    "                  15: 'ñ', 16: 'o', 17: 'p', 18: 'q', 19: 'r', 20: 's', 21: 't', \n",
    "                  22: 'u', 23: 'v', 24: 'w', 25: 'x', 26: 'y', 27: 'z'}\n",
    "\n",
    "    # Recorrer las cadenas y actualizar los contadores\n",
    "    n = len(A)\n",
    "    for i in range(n):\n",
    "        Conteo_A[A[i]] = Conteo_A[A[i]] + 1\n",
    "        Conteo_B[B[i]] = Conteo_B[B[i]] + 1\n",
    "\n",
    "    # Comparar los conteos de cada letra\n",
    "    for i in range(1, 28):\n",
    "        if Conteo_A[Abecedario[i]] != Conteo_B[Abecedario[i]]:\n",
    "            return False\n",
    "\n",
    "    return True\n",
    "\n",
    "\n",
    "A = ['a', 'n', 'a', 'g', 'r', 'a', 'm', 'a']\n",
    "B = ['g', 'r', 'a', 'm', 'a', 'n', 'a', 'a']\n",
    "print(son_anagramas(A, B))  # Devolverá True"
   ]
  },
  {
   "cell_type": "markdown",
   "id": "6df6353b",
   "metadata": {},
   "source": [
    "### Problema 3"
   ]
  },
  {
   "cell_type": "code",
   "execution_count": 13,
   "id": "3f19f193",
   "metadata": {},
   "outputs": [
    {
     "data": {
      "text/plain": [
       "10"
      ]
     },
     "execution_count": 13,
     "metadata": {},
     "output_type": "execute_result"
    }
   ],
   "source": [
    "def declive(A):\n",
    "    n = len(A)\n",
    "    \n",
    "    max = 0\n",
    "    i = 0\n",
    "    j = 0\n",
    "\n",
    "    while i < n:\n",
    "        if j < n:\n",
    "            if A[i] - A[j] < max:\n",
    "                j += 1\n",
    "            else:\n",
    "                max = A[i] - A[j]\n",
    "                j += 1\n",
    "        elif j == n: \n",
    "            i += 1\n",
    "            j = i + 1\n",
    "    \n",
    "    return max\n",
    "\n",
    "A = [19, 12, 13, 11, 20, 10] \n",
    "\n",
    "declive(A)"
   ]
  },
  {
   "cell_type": "code",
   "execution_count": 10,
   "id": "038d2677",
   "metadata": {},
   "outputs": [],
   "source": [
    "def encontrar_declive_maximo(A):\n",
    "    valor_max = A[0]  # Inicializa con el primer elemento (A[1] en pseudocódigo)\n",
    "    declive_max = 0\n",
    "    \n",
    "    # Recorre la lista desde el segundo elemento hasta el final\n",
    "    for i in range(1, len(A)):  # (i = 2 en pseudocódigo se traduce a i = 1 en Python)\n",
    "        declive = valor_max - A[i]\n",
    "        \n",
    "        # Actualiza declive_max si se encuentra un mayor declive\n",
    "        if declive > declive_max:\n",
    "            declive_max = declive\n",
    "        \n",
    "        # Actualiza valor_max si el elemento actual es mayor\n",
    "        if A[i] > valor_max:\n",
    "            valor_max = A[i]\n",
    "    \n",
    "    return declive_max"
   ]
  },
  {
   "cell_type": "code",
   "execution_count": 12,
   "id": "1b5b0047",
   "metadata": {},
   "outputs": [
    {
     "data": {
      "text/plain": [
       "10"
      ]
     },
     "execution_count": 12,
     "metadata": {},
     "output_type": "execute_result"
    }
   ],
   "source": [
    "encontrar_declive_maximo(A)"
   ]
  },
  {
   "cell_type": "code",
   "execution_count": null,
   "id": "65d26e3e",
   "metadata": {},
   "outputs": [],
   "source": []
  }
 ],
 "metadata": {
  "kernelspec": {
   "display_name": "Python 3 (ipykernel)",
   "language": "python",
   "name": "python3"
  },
  "language_info": {
   "codemirror_mode": {
    "name": "ipython",
    "version": 3
   },
   "file_extension": ".py",
   "mimetype": "text/x-python",
   "name": "python",
   "nbconvert_exporter": "python",
   "pygments_lexer": "ipython3",
   "version": "3.11.9"
  }
 },
 "nbformat": 4,
 "nbformat_minor": 5
}
