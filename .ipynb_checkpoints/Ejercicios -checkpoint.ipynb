{
 "cells": [
  {
   "cell_type": "markdown",
   "id": "3fb66719",
   "metadata": {},
   "source": [
    "# Tarea 2"
   ]
  },
  {
   "cell_type": "code",
   "execution_count": null,
   "id": "a4d80d05",
   "metadata": {},
   "outputs": [],
   "source": [
    "def lexicografico(A,B):\n",
    "    n = len(A)\n",
    "    contador = 0\n",
    "    for i in range(0,n):\n",
    "        if A[i] <= B[i]:\n",
    "            contador += 1\n",
    "    return contador\n",
    "    \n",
    "    \n",
    "def estrictamente_lexicografico(A,B):\n",
    "    n = len(A)\n",
    "    if lexicografico(A,B) == n:\n",
    "        contador = 0\n",
    "        for i in range(0,n):\n",
    "            if A[i] < B[i]:\n",
    "                return 1\n",
    "            if A[i] == B[i]:\n",
    "                contador += 1\n",
    "                            \n",
    "        if contador == n:\n",
    "            return 2\n",
    "    else:\n",
    "        return 3"
   ]
  },
  {
   "cell_type": "code",
   "execution_count": null,
   "id": "66092fc9",
   "metadata": {},
   "outputs": [],
   "source": [
    "A = [1,0]\n",
    "B = [0,1]\n",
    "estrictamente_lexicografico(A,B)"
   ]
  },
  {
   "cell_type": "code",
   "execution_count": null,
   "id": "5fa5109b",
   "metadata": {},
   "outputs": [],
   "source": [
    "A = [1,2,3,100]\n",
    "B = [1,2,3,4]\n",
    "estrictamente_lexicografico(A,B)"
   ]
  },
  {
   "cell_type": "markdown",
   "id": "cf6d2627",
   "metadata": {},
   "source": [
    "# Tarea 3"
   ]
  },
  {
   "cell_type": "markdown",
   "id": "50cf8e0f",
   "metadata": {},
   "source": [
    "### Ejercicio 2"
   ]
  },
  {
   "cell_type": "code",
   "execution_count": 2,
   "id": "c3e25884",
   "metadata": {},
   "outputs": [
    {
     "name": "stdout",
     "output_type": "stream",
     "text": [
      "True\n",
      "True\n",
      "False\n",
      "False\n"
     ]
    }
   ],
   "source": [
    "def anagrama_version2(palabra1, palabra2):\n",
    "    n = len(palabra1)\n",
    "    m = len(palabra2)\n",
    "    if n != m:\n",
    "        print(\"Las palabras no tienen la misma longitud\")\n",
    "    else: \n",
    "        i = 0\n",
    "        j = 0\n",
    "        k = 0\n",
    "        while i < n and j < n:\n",
    "            if palabra1[i] != palabra2[j]:\n",
    "                i += 1 \n",
    "            else:\n",
    "                k += 1\n",
    "                j += 1\n",
    "                i = 0\n",
    "        if k == n:\n",
    "            return True\n",
    "        else:\n",
    "            return False\n",
    "        \n",
    "palabra1 = ['a', 'm', 'o', 'r']\n",
    "palabra2 = ['r', 'o', 'm', 'a']\n",
    "print(anagrama_version2(palabra1, palabra2))\n",
    "\n",
    "palabra1 = ['c', 'i', 'n', 'e', 'm', 'a']\n",
    "palabra2 = ['i', 'c', 'e', 'm', 'a', 'n']\n",
    "print(anagrama_version2(palabra1, palabra2))\n",
    "\n",
    "palabra1 = ['m', 'u', 'n', 'd', 'o']\n",
    "palabra2 = ['d', 'u', 'd', 'a', 'r']\n",
    "print(anagrama_version2(palabra1, palabra2))\n",
    "\n",
    "palabra1 = ['f', 'r', 'e', 's', 'a']\n",
    "palabra2 = ['l', 'e', 'n', 't', 'e']\n",
    "print(anagrama_version2(palabra1, palabra2))"
   ]
  },
  {
   "cell_type": "markdown",
   "id": "6df6353b",
   "metadata": {},
   "source": [
    "### Problema 3"
   ]
  },
  {
   "cell_type": "code",
   "execution_count": null,
   "id": "3f19f193",
   "metadata": {},
   "outputs": [],
   "source": [
    "def declive(A):\n",
    "    n = len(A)\n",
    "    \n",
    "    max = 0\n",
    "    i = 0\n",
    "    j = 0\n",
    "\n",
    "    while i < n:\n",
    "        if j < n:\n",
    "            if A[i] - A[j] < max:\n",
    "                j += 1\n",
    "            else:\n",
    "                max = A[i] - A[j]\n",
    "                j += 1\n",
    "        elif j == n: \n",
    "            i += 1\n",
    "            j = i + 1\n",
    "    \n",
    "    return max\n",
    "\n",
    "A = [19, 12, 13, 11, 20, 10] \n",
    "declive(A)"
   ]
  }
 ],
 "metadata": {
  "kernelspec": {
   "display_name": "Python 3 (ipykernel)",
   "language": "python",
   "name": "python3"
  },
  "language_info": {
   "codemirror_mode": {
    "name": "ipython",
    "version": 3
   },
   "file_extension": ".py",
   "mimetype": "text/x-python",
   "name": "python",
   "nbconvert_exporter": "python",
   "pygments_lexer": "ipython3",
   "version": "3.11.9"
  }
 },
 "nbformat": 4,
 "nbformat_minor": 5
}
